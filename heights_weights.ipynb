{
  "nbformat": 4,
  "nbformat_minor": 0,
  "metadata": {
    "colab": {
      "provenance": [],
      "authorship_tag": "ABX9TyNm7UU/Vq60IIBr/FPTw78I",
      "include_colab_link": true
    },
    "kernelspec": {
      "name": "python3",
      "display_name": "Python 3"
    },
    "language_info": {
      "name": "python"
    }
  },
  "cells": [
    {
      "cell_type": "markdown",
      "metadata": {
        "id": "view-in-github",
        "colab_type": "text"
      },
      "source": [
        "<a href=\"https://colab.research.google.com/github/suvarchala11/heights_weights/blob/main/heights_weights.ipynb\" target=\"_parent\"><img src=\"https://colab.research.google.com/assets/colab-badge.svg\" alt=\"Open In Colab\"/></a>"
      ]
    },
    {
      "cell_type": "code",
      "source": [
        "import pandas as pd"
      ],
      "metadata": {
        "id": "HB0BQAousvS_"
      },
      "execution_count": 2,
      "outputs": []
    },
    {
      "cell_type": "code",
      "source": [
        "df = pd.read_csv(\"dataset2.csv\")\n",
        "print(df)"
      ],
      "metadata": {
        "colab": {
          "base_uri": "https://localhost:8080/"
        },
        "id": "fdAHeapwCypE",
        "outputId": "1e9987ab-7f37-4612-c6cc-27d8891ddfe5"
      },
      "execution_count": 15,
      "outputs": [
        {
          "output_type": "stream",
          "name": "stdout",
          "text": [
            "    Weight  Height\n",
            "0     28.0  121.92\n",
            "1     28.1  124.46\n",
            "2     28.2  127.00\n",
            "3     28.3  129.54\n",
            "4     28.4  132.08\n",
            "5     28.5  134.62\n",
            "6     35.2  137.16\n",
            "7     37.6  139.70\n",
            "8     40.0  142.24\n",
            "9     42.6  144.78\n",
            "10    44.9  147.32\n",
            "11    47.6  149.86\n",
            "12    49.9  152.40\n",
            "13    52.6  154.94\n",
            "14    54.9  157.48\n",
            "15    57.6  160.02\n",
            "16    59.9  162.56\n",
            "17    62.6  165.10\n",
            "18    64.8  167.64\n",
            "19    67.6  170.18\n",
            "20    69.8  172.72\n",
            "21    72.6  175.26\n",
            "22    74.8  177.80\n",
            "23    77.5  180.34\n",
            "24    79.8  182.88\n",
            "25    82.5  185.42\n",
            "26    84.8  187.96\n",
            "27    87.5  190.50\n",
            "28    89.8  193.04\n",
            "29    92.5  195.58\n",
            "30    94.8  198.12\n",
            "31    97.5  200.66\n",
            "32    99.8  203.20\n",
            "33   102.5  205.00\n",
            "34   104.8  208.00\n"
          ]
        }
      ]
    },
    {
      "cell_type": "code",
      "source": [
        "height = df[\"Height\"].tolist()\n",
        "weight = df[\"Weight\"].tolist()\n",
        "print(height)\n",
        "print(weight)"
      ],
      "metadata": {
        "colab": {
          "base_uri": "https://localhost:8080/"
        },
        "id": "aYR5Imn2CzSd",
        "outputId": "144883e8-113e-446a-d535-9d29ee34ad10"
      },
      "execution_count": 16,
      "outputs": [
        {
          "output_type": "stream",
          "name": "stdout",
          "text": [
            "[121.92, 124.46, 127.0, 129.54, 132.08, 134.62, 137.16, 139.7, 142.24, 144.78, 147.32, 149.86, 152.4, 154.94, 157.48, 160.02, 162.56, 165.1, 167.64, 170.18, 172.72, 175.26, 177.8, 180.34, 182.88, 185.42, 187.96, 190.5, 193.04, 195.58, 198.12, 200.66, 203.2, 205.0, 208.0]\n",
            "[28.0, 28.1, 28.2, 28.3, 28.4, 28.5, 35.2, 37.6, 40.0, 42.6, 44.9, 47.6, 49.9, 52.6, 54.9, 57.6, 59.9, 62.6, 64.8, 67.6, 69.8, 72.6, 74.8, 77.5, 79.8, 82.5, 84.8, 87.5, 89.8, 92.5, 94.8, 97.5, 99.8, 102.5, 104.8]\n"
          ]
        }
      ]
    },
    {
      "cell_type": "code",
      "source": [
        "import numpy as np\n"
      ],
      "metadata": {
        "id": "Z_Rjm-tjCzqF"
      },
      "execution_count": 6,
      "outputs": []
    },
    {
      "cell_type": "code",
      "source": [
        "m,c = np.polyfit(height,weight,1)\n",
        "y = []\n",
        "for x in height:\n",
        "  y_value = m*x + c\n",
        "  y.append(y_value)"
      ],
      "metadata": {
        "id": "w64WeWeCFRQA"
      },
      "execution_count": 19,
      "outputs": []
    },
    {
      "cell_type": "code",
      "source": [
        "x = 121\n",
        "y = m*x + c\n",
        "print(f\"weight of someone with {x} is {y}\")"
      ],
      "metadata": {
        "colab": {
          "base_uri": "https://localhost:8080/"
        },
        "id": "rmjuoOloFc_T",
        "outputId": "4f9a4dec-921b-4ad9-8cde-ca48c52d10d4"
      },
      "execution_count": 23,
      "outputs": [
        {
          "output_type": "stream",
          "name": "stdout",
          "text": [
            "weight of someone with 121 is 20.499738767089738\n"
          ]
        }
      ]
    },
    {
      "cell_type": "code",
      "source": [
        "\n"
      ],
      "metadata": {
        "colab": {
          "base_uri": "https://localhost:8080/",
          "height": 130
        },
        "id": "aHxcVRELG17i",
        "outputId": "796c4674-c0ca-4115-fa83-8a45828c3e52"
      },
      "execution_count": 18,
      "outputs": [
        {
          "output_type": "error",
          "ename": "IndentationError",
          "evalue": "ignored",
          "traceback": [
            "\u001b[0;36m  File \u001b[0;32m\"<ipython-input-18-070ee73ebe66>\"\u001b[0;36m, line \u001b[0;32m1\u001b[0m\n\u001b[0;31m    for x in height:\u001b[0m\n\u001b[0m                    ^\u001b[0m\n\u001b[0;31mIndentationError\u001b[0m\u001b[0;31m:\u001b[0m expected an indented block\n"
          ]
        }
      ]
    }
  ]
}